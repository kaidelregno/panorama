{
 "cells": [
  {
   "cell_type": "code",
   "execution_count": 1,
   "metadata": {},
   "outputs": [],
   "source": [
    "import numpy as np\n",
    "import cv2\n",
    "import matplotlib.pyplot as plt\n",
    "import imageio\n",
    "import os\n",
    "import random\n",
    "from utils import *"
   ]
  },
  {
   "cell_type": "code",
   "execution_count": 2,
   "metadata": {},
   "outputs": [],
   "source": [
    "images_folder_path = './Images/1'\n",
    "images = load_images(images_folder_path)\n",
    "\n",
    "\n",
    "kps, dess, pw_correspondences = pairwise_correspondences(images, ratio=0.6)\n"
   ]
  },
  {
   "cell_type": "code",
   "execution_count": 3,
   "metadata": {},
   "outputs": [],
   "source": [
    "pw_homographies, pw_inliers, pw_outliers, matches = pairwise_ransac(pw_correspondences)\n"
   ]
  },
  {
   "cell_type": "code",
   "execution_count": 4,
   "metadata": {},
   "outputs": [
    {
     "ename": "ValueError",
     "evalue": "matmul: Input operand 1 has a mismatch in its core dimension 0, with gufunc signature (n?,k),(k,m?)->(n?,m?) (size 2 is different from 12)",
     "output_type": "error",
     "traceback": [
      "\u001b[0;31m---------------------------------------------------------------------------\u001b[0m",
      "\u001b[0;31mValueError\u001b[0m                                Traceback (most recent call last)",
      "Cell \u001b[0;32mIn[4], line 1\u001b[0m\n\u001b[0;32m----> 1\u001b[0m params \u001b[39m=\u001b[39m bundle_adjust(pw_inliers, matches)\n",
      "File \u001b[0;32m~/Documents/GitHub/panorama/utils.py:241\u001b[0m, in \u001b[0;36mbundle_adjust\u001b[0;34m(pw_inliers, matches, max_iter)\u001b[0m\n\u001b[1;32m    238\u001b[0m JTJ[\u001b[39m4\u001b[39m\u001b[39m*\u001b[39mi:\u001b[39m4\u001b[39m\u001b[39m*\u001b[39mi\u001b[39m+\u001b[39m\u001b[39m4\u001b[39m, \u001b[39m4\u001b[39m\u001b[39m*\u001b[39mj:\u001b[39m4\u001b[39m\u001b[39m*\u001b[39mj\u001b[39m+\u001b[39m\u001b[39m4\u001b[39m] \u001b[39m+\u001b[39m\u001b[39m=\u001b[39m np\u001b[39m.\u001b[39mmatmul(dik\u001b[39m.\u001b[39mT, djk)\n\u001b[1;32m    239\u001b[0m JTJ[\u001b[39m4\u001b[39m\u001b[39m*\u001b[39mj:\u001b[39m4\u001b[39m\u001b[39m*\u001b[39mj\u001b[39m+\u001b[39m\u001b[39m4\u001b[39m, \u001b[39m4\u001b[39m\u001b[39m*\u001b[39mi:\u001b[39m4\u001b[39m\u001b[39m*\u001b[39mi\u001b[39m+\u001b[39m\u001b[39m4\u001b[39m] \u001b[39m+\u001b[39m\u001b[39m=\u001b[39m np\u001b[39m.\u001b[39mmatmul(djl\u001b[39m.\u001b[39mT, dil)\n\u001b[0;32m--> 241\u001b[0m JTr[\u001b[39m4\u001b[39m\u001b[39m*\u001b[39mi:\u001b[39m4\u001b[39m\u001b[39m*\u001b[39mi\u001b[39m+\u001b[39m\u001b[39m4\u001b[39m] \u001b[39m+\u001b[39m\u001b[39m=\u001b[39m np\u001b[39m.\u001b[39;49mmatmul(dik\u001b[39m.\u001b[39;49mT, residual1)\n\u001b[1;32m    242\u001b[0m JTr[\u001b[39m4\u001b[39m\u001b[39m*\u001b[39mj:\u001b[39m4\u001b[39m\u001b[39m*\u001b[39mj\u001b[39m+\u001b[39m\u001b[39m4\u001b[39m] \u001b[39m+\u001b[39m\u001b[39m=\u001b[39m np\u001b[39m.\u001b[39mmatmul(djl\u001b[39m.\u001b[39mT, residual2)\n\u001b[1;32m    244\u001b[0m error \u001b[39m+\u001b[39m\u001b[39m=\u001b[39m np\u001b[39m.\u001b[39msum(residual1\u001b[39m*\u001b[39m\u001b[39m*\u001b[39m\u001b[39m2\u001b[39m) \u001b[39m+\u001b[39m np\u001b[39m.\u001b[39msum(residual2\u001b[39m*\u001b[39m\u001b[39m*\u001b[39m\u001b[39m2\u001b[39m)\n",
      "\u001b[0;31mValueError\u001b[0m: matmul: Input operand 1 has a mismatch in its core dimension 0, with gufunc signature (n?,k),(k,m?)->(n?,m?) (size 2 is different from 12)"
     ]
    }
   ],
   "source": [
    "params = bundle_adjust(pw_inliers, matches)"
   ]
  }
 ],
 "metadata": {
  "kernelspec": {
   "display_name": "panorama",
   "language": "python",
   "name": "python3"
  },
  "language_info": {
   "codemirror_mode": {
    "name": "ipython",
    "version": 3
   },
   "file_extension": ".py",
   "mimetype": "text/x-python",
   "name": "python",
   "nbconvert_exporter": "python",
   "pygments_lexer": "ipython3",
   "version": "3.10.11"
  },
  "orig_nbformat": 4
 },
 "nbformat": 4,
 "nbformat_minor": 2
}
