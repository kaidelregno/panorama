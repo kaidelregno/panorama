{
 "cells": [
  {
   "cell_type": "code",
   "execution_count": 3,
   "metadata": {},
   "outputs": [],
   "source": [
    "import numpy as np\n",
    "import cv2\n",
    "import matplotlib.pyplot as plt\n",
    "import imageio\n",
    "import os\n",
    "import random\n",
    "from utils import *"
   ]
  },
  {
   "cell_type": "code",
   "execution_count": null,
   "metadata": {},
   "outputs": [],
   "source": [
    "images_folder_path = './Images/1'\n",
    "images = load_images(images_folder_path)\n",
    "\n",
    "\n",
    "kps, dess, pw_correspondences = pairwise_correspondences(images, ratio=0.6)\n",
    "pw_homographies, pw_inliers, pw_outliers = pairwise_ransac(pw_correspondences)"
   ]
  }
 ],
 "metadata": {
  "kernelspec": {
   "display_name": "panorama",
   "language": "python",
   "name": "python3"
  },
  "language_info": {
   "codemirror_mode": {
    "name": "ipython",
    "version": 3
   },
   "file_extension": ".py",
   "mimetype": "text/x-python",
   "name": "python",
   "nbconvert_exporter": "python",
   "pygments_lexer": "ipython3",
   "version": "3.10.11"
  },
  "orig_nbformat": 4
 },
 "nbformat": 4,
 "nbformat_minor": 2
}
